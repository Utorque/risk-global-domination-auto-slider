{
 "cells": [
  {
   "cell_type": "code",
   "execution_count": 1,
   "metadata": {},
   "outputs": [],
   "source": [
    "import cv2\n",
    "import numpy as np\n",
    "\n",
    "from utils_global import imread_grayscale\n",
    "from utils_detect_attack_mode import is_attack_mode\n",
    "from utils_get_win_chance import get_win_chance, setup_pytesseract\n",
    "from utils_global import show_image"
   ]
  },
  {
   "cell_type": "code",
   "execution_count": 17,
   "metadata": {},
   "outputs": [],
   "source": [
    "setup_pytesseract()"
   ]
  },
  {
   "cell_type": "code",
   "execution_count": 2,
   "metadata": {},
   "outputs": [],
   "source": [
    "img = imread_grayscale(image_path=\"pics/attack_mode/attack_01.jpg\")\n",
    "slider = imread_grayscale(\"pics/slider_02.jpg\")"
   ]
  },
  {
   "cell_type": "code",
   "execution_count": 3,
   "metadata": {},
   "outputs": [],
   "source": [
    "def get_slider_pos(img):\n",
    "    img_edges = cv2.Canny(img, 50, 150)\n",
    "    slider_edges = cv2.Canny(slider, 50, 150)\n",
    "\n",
    "    result = cv2.matchTemplate(img_edges, slider_edges, cv2.TM_CCOEFF_NORMED)\n",
    "    _, max_val, _, max_loc = cv2.minMaxLoc(result)\n",
    "\n",
    "    if max_val > 0.15:\n",
    "        top_left = max_loc\n",
    "        return (int(top_left[0] + slider.shape[1] / 2), int(top_left[1] + slider.shape[0] / 2))\n",
    "    \n",
    "    return (None, None)"
   ]
  },
  {
   "cell_type": "code",
   "execution_count": 4,
   "metadata": {},
   "outputs": [],
   "source": [
    "if is_attack_mode(img):\n",
    "    pos = get_slider_pos(img)\n",
    "    img[pos[1]][pos[0]] = 0"
   ]
  },
  {
   "cell_type": "code",
   "execution_count": 5,
   "metadata": {},
   "outputs": [],
   "source": [
    "show_image(img)"
   ]
  }
 ],
 "metadata": {
  "kernelspec": {
   "display_name": "venv",
   "language": "python",
   "name": "python3"
  },
  "language_info": {
   "codemirror_mode": {
    "name": "ipython",
    "version": 3
   },
   "file_extension": ".py",
   "mimetype": "text/x-python",
   "name": "python",
   "nbconvert_exporter": "python",
   "pygments_lexer": "ipython3",
   "version": "3.11.3"
  }
 },
 "nbformat": 4,
 "nbformat_minor": 2
}
