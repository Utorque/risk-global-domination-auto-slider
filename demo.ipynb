{
 "cells": [
  {
   "cell_type": "code",
   "execution_count": 11,
   "metadata": {},
   "outputs": [],
   "source": [
    "import cv2\n",
    "import numpy as np\n",
    "import os\n",
    "\n",
    "from utils_global import imread_grayscale\n",
    "from utils_detect_attack_mode import is_attack_mode\n",
    "from utils_get_win_chance import get_win_chance, setup_pytesseract\n",
    "from utils_global import show_image"
   ]
  },
  {
   "cell_type": "code",
   "execution_count": 7,
   "metadata": {},
   "outputs": [
    {
     "name": "stdout",
     "output_type": "stream",
     "text": [
      "Available Attack mode images : ./pics/attack_mode/['attack_01.jpg', 'attack_02.jpg', 'attack_03.jpg', 'attack_04.jpg']\n",
      "Available Normal mode images : ./pics/normal_mode/['normal_01.jpg', 'normal_02.jpg', 'normal_03.jpg']\n"
     ]
    }
   ],
   "source": [
    "print(f\"Available Attack mode images : ./pics/attack_mode/{os.listdir('./pics/attack_mode')}\")\n",
    "print(f\"Available Normal mode images : ./pics/normal_mode/{os.listdir('./pics/normal_mode')}\")"
   ]
  },
  {
   "cell_type": "code",
   "execution_count": 9,
   "metadata": {},
   "outputs": [],
   "source": [
    "img = imread_grayscale(image_path=\"pics/attack_mode/attack_01.jpg\")\n",
    "slider = imread_grayscale(\"pics/slider_02.jpg\")"
   ]
  },
  {
   "cell_type": "code",
   "execution_count": 10,
   "metadata": {},
   "outputs": [
    {
     "name": "stdout",
     "output_type": "stream",
     "text": [
      "True\n"
     ]
    }
   ],
   "source": [
    "# 1. Attack mode\n",
    "print(is_attack_mode(img))"
   ]
  },
  {
   "cell_type": "code",
   "execution_count": 12,
   "metadata": {},
   "outputs": [],
   "source": [
    "# 2. Win rate\n",
    "setup_pytesseract(r'D:\\Applications\\Tesseract-OCR\\tesseract.exe') # .exe path here"
   ]
  },
  {
   "cell_type": "code",
   "execution_count": 15,
   "metadata": {},
   "outputs": [
    {
     "name": "stdout",
     "output_type": "stream",
     "text": [
      "Win Chance : 100\n"
     ]
    }
   ],
   "source": [
    "if is_attack_mode(img):\n",
    "    print(f\"Win Chance : {get_win_chance(img)}\")"
   ]
  },
  {
   "cell_type": "code",
   "execution_count": 16,
   "metadata": {},
   "outputs": [],
   "source": [
    "if is_attack_mode(img):\n",
    "    img_edges = cv2.Canny(img, 50, 150)\n",
    "    slider_edges = cv2.Canny(slider, 50, 150)\n",
    "\n",
    "    result = cv2.matchTemplate(img_edges, slider_edges, cv2.TM_CCOEFF_NORMED)\n",
    "    min_val, max_val, min_loc, max_loc = cv2.minMaxLoc(result)\n",
    "\n",
    "    if max_val > 0.15:\n",
    "        top_left = max_loc\n",
    "        bottom_right = (top_left[0] + slider.shape[1], top_left[1] + slider.shape[0])\n",
    "        cv2.rectangle(img, top_left, bottom_right, (255, 255, 255), 2)"
   ]
  },
  {
   "cell_type": "code",
   "execution_count": 17,
   "metadata": {},
   "outputs": [],
   "source": [
    "show_image(img) # try also with attack_04.jpg !"
   ]
  }
 ],
 "metadata": {
  "kernelspec": {
   "display_name": "venv",
   "language": "python",
   "name": "python3"
  },
  "language_info": {
   "codemirror_mode": {
    "name": "ipython",
    "version": 3
   },
   "file_extension": ".py",
   "mimetype": "text/x-python",
   "name": "python",
   "nbconvert_exporter": "python",
   "pygments_lexer": "ipython3",
   "version": "3.11.3"
  }
 },
 "nbformat": 4,
 "nbformat_minor": 2
}
